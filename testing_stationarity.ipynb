{
 "cells": [
  {
   "cell_type": "code",
   "execution_count": 28,
   "id": "fbcb21f6",
   "metadata": {},
   "outputs": [],
   "source": [
    "# Making non-stationary time series stationary\n",
    "import cpi\n",
    "import pandas as pd\n",
    "from datetime import date\n",
    "from statsmodels.graphics.tsaplots import plot_acf, plot_pacf\n",
    "from statsmodels.tsa.stattools import adfuller, kpss\n",
    "import yfinance as yf\n",
    "import matplotlib.pyplot as plt"
   ]
  },
  {
   "cell_type": "code",
   "execution_count": 11,
   "id": "0767db24",
   "metadata": {},
   "outputs": [
    {
     "name": "stdout",
     "output_type": "stream",
     "text": [
      "[*********************100%***********************]  1 of 1 completed\n"
     ]
    }
   ],
   "source": [
    "df = yf.download('GC=F', start = '2000-01-01',\n",
    "                end='2020-01-01',\n",
    "                progress=True)\n",
    "df.rename(columns = {'Close': 'price'}, inplace = True)\n",
    "df = df.resample('M').last()\n",
    "df = df[['price']]"
   ]
  },
  {
   "cell_type": "code",
   "execution_count": 5,
   "id": "40986181",
   "metadata": {},
   "outputs": [],
   "source": [
    "cpi.update()"
   ]
  },
  {
   "cell_type": "code",
   "execution_count": 8,
   "id": "a1a8a769",
   "metadata": {},
   "outputs": [],
   "source": [
    "# Define a function for running the ADF test\n",
    "\n",
    "def adf_test(x):\n",
    "    indices = ['Test Statistic', 'p-value', '# of Lags Used', '# of Observations Used']\n",
    "    \n",
    "    adf_test = adfuller(x, autolag = 'AIC')\n",
    "    results = pd.Series(adf_test[:4], index = indices)\n",
    "    \n",
    "    for key, value in adf_test[4].items():\n",
    "        results[f'Critical Value ({key})'] = value\n",
    "    return results\n",
    "        "
   ]
  },
  {
   "cell_type": "code",
   "execution_count": 26,
   "id": "645cb52d",
   "metadata": {},
   "outputs": [
    {
     "data": {
      "text/plain": [
       "Test Statistic             -1.245430\n",
       "p-value                     0.653754\n",
       "# of Lags Used             11.000000\n",
       "# of Observations Used    221.000000\n",
       "Critical Value (1%)        -3.460291\n",
       "Critical Value (5%)        -2.874709\n",
       "Critical Value (10%)       -2.573789\n",
       "dtype: float64"
      ]
     },
     "execution_count": 26,
     "metadata": {},
     "output_type": "execute_result"
    }
   ],
   "source": [
    "# run the test\n",
    "\n",
    "adf_test(df)\n",
    "# the null hypothesis : ts is not stationary\n",
    "# p-values is more then Critical Value (1%) that's why we fail to reject the null hypothesis "
   ]
  },
  {
   "cell_type": "code",
   "execution_count": 24,
   "id": "aa1736a6",
   "metadata": {},
   "outputs": [],
   "source": [
    "# since the test statistic  > critical value 1% we conclude that ts is not stationary\n",
    "\n",
    "def kpss_test(x, h0_type='c'):\n",
    "    indices = ['Test Statistic', 'p-value', '# of Lags']\n",
    "    kpss_test = kpss(x, regression = h0_type)\n",
    "    \n",
    "    results = pd.Series(kpss_test[:3], index = indices)\n",
    "    print()\n",
    "    for key, value in kpss_test[3].items():\n",
    "        results[f'Critical Value ({key})'] = value\n",
    "    return results\n",
    "        \n",
    "    "
   ]
  },
  {
   "cell_type": "code",
   "execution_count": 27,
   "id": "b687c8eb",
   "metadata": {},
   "outputs": [
    {
     "name": "stdout",
     "output_type": "stream",
     "text": [
      "\n"
     ]
    },
    {
     "name": "stderr",
     "output_type": "stream",
     "text": [
      "/Users/anna/opt/anaconda3/lib/python3.8/site-packages/statsmodels/tsa/stattools.py:1875: FutureWarning: The behavior of using nlags=None will change in release 0.13.Currently nlags=None is the same as nlags=\"legacy\", and so a sample-size lag length is used. After the next release, the default will change to be the same as nlags=\"auto\" which uses an automatic lag length selection method. To silence this warning, either use \"auto\" or \"legacy\"\n",
      "  warnings.warn(msg, FutureWarning)\n",
      "/Users/anna/opt/anaconda3/lib/python3.8/site-packages/statsmodels/tsa/stattools.py:1906: InterpolationWarning: The test statistic is outside of the range of p-values available in the\n",
      "look-up table. The actual p-value is smaller than the p-value returned.\n",
      "\n",
      "  warnings.warn(\n"
     ]
    },
    {
     "data": {
      "text/plain": [
       "Test Statistic            1.253341\n",
       "p-value                   0.010000\n",
       "# of Lags                15.000000\n",
       "Critical Value (10%)      0.347000\n",
       "Critical Value (5%)       0.463000\n",
       "Critical Value (2.5%)     0.574000\n",
       "Critical Value (1%)       0.739000\n",
       "dtype: float64"
      ]
     },
     "execution_count": 27,
     "metadata": {},
     "output_type": "execute_result"
    }
   ],
   "source": [
    "kpss_test(df)\n",
    "# the null hypothesis : ts is stationary\n",
    "# p-values is less then Critical Value (1%) that's why we reject the null hypothesis "
   ]
  },
  {
   "cell_type": "code",
   "execution_count": 33,
   "id": "414cb8d6",
   "metadata": {},
   "outputs": [
    {
     "data": {
      "image/png": "[encoded data removed]",
      "text/plain": [
       "<Figure size 864x576 with 2 Axes>"
      ]
     },
     "metadata": {
      "needs_background": "light"
     },
     "output_type": "display_data"
    }
   ],
   "source": [
    "# Generate the ACF/PACF plots\n",
    "\n",
    "N_LAGS = 40\n",
    "SIGNIFICANCE_LEVEL = 0.05\n",
    "\n",
    "fig, ax = plt.subplots(2, 1, figsize = (12, 8))\n",
    "plot_acf(df.price, ax = ax[0], lags = N_LAGS, alpha=SIGNIFICANCE_LEVEL)\n",
    "plot_pacf(df.price, ax= ax[1], lags = N_LAGS, alpha=SIGNIFICANCE_LEVEL)\n",
    "plt.show()"
   ]
  }
 ],
 "metadata": {
  "kernelspec": {
   "display_name": "Python 3",
   "language": "python",
   "name": "python3"
  },
  "language_info": {
   "codemirror_mode": {
    "name": "ipython",
    "version": 3
   },
   "file_extension": ".py",
   "mimetype": "text/x-python",
   "name": "python",
   "nbconvert_exporter": "python",
   "pygments_lexer": "ipython3",
   "version": "3.8.8"
  }
 },
 "nbformat": 4,
 "nbformat_minor": 5
}
