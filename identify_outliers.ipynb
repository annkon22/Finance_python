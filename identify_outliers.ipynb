{
 "cells": [
  {
   "cell_type": "code",
   "execution_count": 1,
   "id": "cfe7614d",
   "metadata": {},
   "outputs": [
    {
     "data": {
      "text/html": [
       "        <script type=\"text/javascript\">\n",
       "        window.PlotlyConfig = {MathJaxConfig: 'local'};\n",
       "        if (window.MathJax) {MathJax.Hub.Config({SVG: {font: \"STIX-Web\"}});}\n",
       "        if (typeof require !== 'undefined') {\n",
       "        require.undef(\"plotly\");\n",
       "        requirejs.config({\n",
       "            paths: {\n",
       "                'plotly': ['https://cdn.plot.ly/plotly-2.3.1.min']\n",
       "            }\n",
       "        });\n",
       "        require(['plotly'], function(Plotly) {\n",
       "            window._Plotly = Plotly;\n",
       "        });\n",
       "        }\n",
       "        </script>\n",
       "        "
      ]
     },
     "metadata": {},
     "output_type": "display_data"
    }
   ],
   "source": [
    "# 1. Import the libraries\n",
    "import pandas as pd\n",
    "import yfinance as yf\n",
    "import numpy as np\n",
    "import matplotlib.pyplot as plt\n",
    "import cufflinks as cf \n",
    "from plotly.offline import iplot, init_notebook_mode"
   ]
  },
  {
   "cell_type": "code",
   "execution_count": 2,
   "id": "059a79fb",
   "metadata": {},
   "outputs": [],
   "source": [
    "# 2. Download the data\n",
    "\n",
    "df_yahoo = yf.download('MSFT', start = '2010-01-01',\n",
    "                end='2020-12-31',\n",
    "                progress=False)"
   ]
  },
  {
   "cell_type": "code",
   "execution_count": 3,
   "id": "ddda4170",
   "metadata": {},
   "outputs": [],
   "source": [
    "# 3. Save only Close price\n",
    "df_yahoo = df_yahoo.loc[:,  ['Adj Close']]\n",
    "df_yahoo.rename(columns = {'Adj Close': 'adj_close'}, inplace = True)"
   ]
  },
  {
   "cell_type": "code",
   "execution_count": 4,
   "id": "1b0f4221",
   "metadata": {},
   "outputs": [],
   "source": [
    "# 4. Simple returns \n",
    "df_yahoo['simple_rtn'] = df_yahoo['adj_close'].pct_change()"
   ]
  },
  {
   "cell_type": "code",
   "execution_count": 5,
   "id": "a814c7cd",
   "metadata": {},
   "outputs": [],
   "source": [
    "# 5. Log returns\n",
    "df_yahoo['log_rtn'] = np.log(df_yahoo.adj_close/ df_yahoo.adj_close.shift(1))"
   ]
  },
  {
   "cell_type": "code",
   "execution_count": 6,
   "id": "6bf37c54",
   "metadata": {},
   "outputs": [
    {
     "data": {
      "text/html": [
       "<div>\n",
       "<style scoped>\n",
       "    .dataframe tbody tr th:only-of-type {\n",
       "        vertical-align: middle;\n",
       "    }\n",
       "\n",
       "    .dataframe tbody tr th {\n",
       "        vertical-align: top;\n",
       "    }\n",
       "\n",
       "    .dataframe thead th {\n",
       "        text-align: right;\n",
       "    }\n",
       "</style>\n",
       "<table border=\"1\" class=\"dataframe\">\n",
       "  <thead>\n",
       "    <tr style=\"text-align: right;\">\n",
       "      <th></th>\n",
       "      <th>adj_close</th>\n",
       "      <th>simple_rtn</th>\n",
       "      <th>log_rtn</th>\n",
       "    </tr>\n",
       "    <tr>\n",
       "      <th>Date</th>\n",
       "      <th></th>\n",
       "      <th></th>\n",
       "      <th></th>\n",
       "    </tr>\n",
       "  </thead>\n",
       "  <tbody>\n",
       "    <tr>\n",
       "      <th>2009-12-31</th>\n",
       "      <td>23.585039</td>\n",
       "      <td>NaN</td>\n",
       "      <td>NaN</td>\n",
       "    </tr>\n",
       "    <tr>\n",
       "      <th>2010-01-04</th>\n",
       "      <td>23.948717</td>\n",
       "      <td>0.015420</td>\n",
       "      <td>0.015302</td>\n",
       "    </tr>\n",
       "    <tr>\n",
       "      <th>2010-01-05</th>\n",
       "      <td>23.956453</td>\n",
       "      <td>0.000323</td>\n",
       "      <td>0.000323</td>\n",
       "    </tr>\n",
       "    <tr>\n",
       "      <th>2010-01-06</th>\n",
       "      <td>23.809435</td>\n",
       "      <td>-0.006137</td>\n",
       "      <td>-0.006156</td>\n",
       "    </tr>\n",
       "    <tr>\n",
       "      <th>2010-01-07</th>\n",
       "      <td>23.561821</td>\n",
       "      <td>-0.010400</td>\n",
       "      <td>-0.010454</td>\n",
       "    </tr>\n",
       "  </tbody>\n",
       "</table>\n",
       "</div>"
      ],
      "text/plain": [
       "            adj_close  simple_rtn   log_rtn\n",
       "Date                                       \n",
       "2009-12-31  23.585039         NaN       NaN\n",
       "2010-01-04  23.948717    0.015420  0.015302\n",
       "2010-01-05  23.956453    0.000323  0.000323\n",
       "2010-01-06  23.809435   -0.006137 -0.006156\n",
       "2010-01-07  23.561821   -0.010400 -0.010454"
      ]
     },
     "execution_count": 6,
     "metadata": {},
     "output_type": "execute_result"
    }
   ],
   "source": [
    "df_yahoo.head()"
   ]
  },
  {
   "cell_type": "code",
   "execution_count": 8,
   "id": "32a2cd8d",
   "metadata": {},
   "outputs": [],
   "source": [
    "# 6. Calculate the rolling mean and standard deviation\n",
    "\n",
    "df_rolling = df_yahoo[['simple_rtn']].rolling(window = 21).agg(['mean', 'std'])\n",
    "df_rolling.columns = df_rolling.columns.droplevel()"
   ]
  },
  {
   "cell_type": "code",
   "execution_count": 11,
   "id": "fd5f0e5c",
   "metadata": {},
   "outputs": [],
   "source": [
    "# 7. Join the rolling metrics to the original data\n",
    "\n",
    "df_outliers = df_yahoo.join(df_rolling)"
   ]
  },
  {
   "cell_type": "code",
   "execution_count": 12,
   "id": "e5fca86e",
   "metadata": {},
   "outputs": [],
   "source": [
    "# 8. Define a function for detecting outliers\n",
    "\n",
    "def identify_outliers(row, n_sigmas = 3):\n",
    "    x = row['simple_rtn']\n",
    "    mu = row['mean']\n",
    "    sigma = row['std']\n",
    "    if (x > mu + 3 * sigma) | (x < mu - 3 * sigma):\n",
    "        return 1\n",
    "    else:\n",
    "        return 0\n",
    "    "
   ]
  },
  {
   "cell_type": "code",
   "execution_count": 15,
   "id": "e3b8bd8f",
   "metadata": {},
   "outputs": [],
   "source": [
    "# 9. Identify the outliers and extract them for later use\n",
    "\n",
    "df_outliers['outlier'] = df_outliers.apply(identify_outliers, axis = 1)\n",
    "outliers = df_outliers.loc[df_outliers['outlier'] == 1, ['simple_rtn']]"
   ]
  },
  {
   "cell_type": "code",
   "execution_count": 23,
   "id": "71564dfc",
   "metadata": {},
   "outputs": [
    {
     "data": {
      "text/plain": [
       "<matplotlib.legend.Legend at 0x7fac5aae9b80>"
      ]
     },
     "execution_count": 23,
     "metadata": {},
     "output_type": "execute_result"
    },
    {
     "data": {
      "image/png": "[encoded data removed]",
      "text/plain": [
       "<Figure size 720x432 with 1 Axes>"
      ]
     },
     "metadata": {
      "needs_background": "light"
     },
     "output_type": "display_data"
    }
   ],
   "source": [
    "# PLOT THE RESULTS\n",
    "\n",
    "fig, ax = plt.subplots(figsize = (10, 6))\n",
    "ax.plot(df_outliers.index, df_outliers.simple_rtn, color = 'blue', label = 'Normal')\n",
    "ax.scatter(outliers.index, outliers.simple_rtn, color = 'red', label = 'Anomaly')\n",
    "ax.set_title(\"MSFT stock returns \")\n",
    "ax.legend(loc = 'lower right')"
   ]
  },
  {
   "cell_type": "code",
   "execution_count": null,
   "id": "929fc4f2",
   "metadata": {},
   "outputs": [],
   "source": []
  },
  {
   "cell_type": "code",
   "execution_count": null,
   "id": "c663dc56",
   "metadata": {},
   "outputs": [],
   "source": []
  },
  {
   "cell_type": "code",
   "execution_count": null,
   "id": "9ff90ee9",
   "metadata": {},
   "outputs": [],
   "source": []
  }
 ],
 "metadata": {
  "kernelspec": {
   "display_name": "Python 3",
   "language": "python",
   "name": "python3"
  },
  "language_info": {
   "codemirror_mode": {
    "name": "ipython",
    "version": 3
   },
   "file_extension": ".py",
   "mimetype": "text/x-python",
   "name": "python",
   "nbconvert_exporter": "python",
   "pygments_lexer": "ipython3",
   "version": "3.8.8"
  }
 },
 "nbformat": 4,
 "nbformat_minor": 5
}
