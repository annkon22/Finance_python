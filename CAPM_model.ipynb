{
 "cells": [
  {
   "cell_type": "code",
   "execution_count": 1,
   "id": "822bd57e",
   "metadata": {},
   "outputs": [],
   "source": [
    "import pandas as pd\n",
    "import yfinance as yf\n",
    "import statsmodels.api as sm"
   ]
  },
  {
   "cell_type": "code",
   "execution_count": 2,
   "id": "ec9ae3d1",
   "metadata": {},
   "outputs": [],
   "source": [
    "# specify the risky asset and the time horizon \n",
    "RISKY_ASSET = 'AMZN'\n",
    "MARKET_BENCHMARK = '^GSPC'\n",
    "START_DATE = '2014-01-01'\n",
    "END_DATE = '2020-01-01'\n"
   ]
  },
  {
   "cell_type": "code",
   "execution_count": 6,
   "id": "cc36d66b",
   "metadata": {},
   "outputs": [
    {
     "name": "stdout",
     "output_type": "stream",
     "text": [
      "[*********************100%***********************]  2 of 2 completed\n"
     ]
    }
   ],
   "source": [
    "# download the data \n",
    "\n",
    "df = yf.download([RISKY_ASSET, MARKET_BENCHMARK], start= START_DATE, end = END_DATE,\n",
    "                adjusted = True)\n"
   ]
  },
  {
   "cell_type": "code",
   "execution_count": 9,
   "id": "c6c9f832",
   "metadata": {},
   "outputs": [],
   "source": [
    "# resample to monthly data and calculate the simple returns\n",
    "\n",
    "X = df['Adj Close'].rename(columns = {RISKY_ASSET: 'asset', MARKET_BENCHMARK: 'market'}).resample('M').last()\\\n",
    ".pct_change().dropna()"
   ]
  },
  {
   "cell_type": "code",
   "execution_count": 14,
   "id": "d63b8cde",
   "metadata": {},
   "outputs": [
    {
     "data": {
      "text/plain": [
       "1.5420465525798501"
      ]
     },
     "execution_count": 14,
     "metadata": {},
     "output_type": "execute_result"
    }
   ],
   "source": [
    "# calculate beta\n",
    "\n",
    "covariance = X.cov().iloc[0, 1]\n",
    "benchmark_variance = X.market.var()\n",
    "beta = covariance / benchmark_variance\n",
    "beta"
   ]
  },
  {
   "cell_type": "code",
   "execution_count": 15,
   "id": "8a2ca627",
   "metadata": {},
   "outputs": [],
   "source": [
    "# prepare the input and estimate the CAPM as a linear regression\n",
    "\n",
    "y = X.pop('asset')\n",
    "X = sm.add_constant(X)"
   ]
  },
  {
   "cell_type": "code",
   "execution_count": 39,
   "id": "fb4f70d0",
   "metadata": {},
   "outputs": [
    {
     "data": {
      "text/html": [
       "<table class=\"simpletable\">\n",
       "<tr>\n",
       "        <td>Model:</td>               <td>OLS</td>         <td>Adj. R-squared:</td>     <td>0.367</td>  \n",
       "</tr>\n",
       "<tr>\n",
       "  <td>Dependent Variable:</td>       <td>asset</td>             <td>AIC:</td>         <td>-185.8333</td>\n",
       "</tr>\n",
       "<tr>\n",
       "         <td>Date:</td>        <td>2021-09-13 18:40</td>        <td>BIC:</td>         <td>-181.2800</td>\n",
       "</tr>\n",
       "<tr>\n",
       "   <td>No. Observations:</td>         <td>72</td>          <td>Log-Likelihood:</td>    <td>94.917</td>  \n",
       "</tr>\n",
       "<tr>\n",
       "       <td>Df Model:</td>              <td>1</td>           <td>F-statistic:</td>       <td>42.17</td>  \n",
       "</tr>\n",
       "<tr>\n",
       "     <td>Df Residuals:</td>           <td>70</td>        <td>Prob (F-statistic):</td> <td>1.03e-08</td> \n",
       "</tr>\n",
       "<tr>\n",
       "      <td>R-squared:</td>            <td>0.376</td>            <td>Scale:</td>        <td>0.0043123</td>\n",
       "</tr>\n",
       "</table>\n",
       "<table class=\"simpletable\">\n",
       "<tr>\n",
       "     <td></td>     <th>Coef.</th> <th>Std.Err.</th>    <th>t</th>    <th>P>|t|</th> <th>[0.025</th>  <th>0.975]</th>\n",
       "</tr>\n",
       "<tr>\n",
       "  <th>const</th>  <td>0.0120</td>  <td>0.0080</td>  <td>1.4981</td> <td>0.1386</td> <td>-0.0040</td> <td>0.0279</td>\n",
       "</tr>\n",
       "<tr>\n",
       "  <th>market</th> <td>1.5420</td>  <td>0.2375</td>  <td>6.4940</td> <td>0.0000</td> <td>1.0685</td>  <td>2.0156</td>\n",
       "</tr>\n",
       "</table>\n",
       "<table class=\"simpletable\">\n",
       "<tr>\n",
       "     <td>Omnibus:</td>    <td>6.011</td>  <td>Durbin-Watson:</td>   <td>1.827</td>\n",
       "</tr>\n",
       "<tr>\n",
       "  <td>Prob(Omnibus):</td> <td>0.050</td> <td>Jarque-Bera (JB):</td> <td>5.220</td>\n",
       "</tr>\n",
       "<tr>\n",
       "       <td>Skew:</td>     <td>0.618</td>     <td>Prob(JB):</td>     <td>0.074</td>\n",
       "</tr>\n",
       "<tr>\n",
       "     <td>Kurtosis:</td>   <td>3.460</td>  <td>Condition No.:</td>    <td>31</td>  \n",
       "</tr>\n",
       "</table>"
      ],
      "text/plain": [
       "<class 'statsmodels.iolib.summary2.Summary'>\n",
       "\"\"\"\n",
       "                 Results: Ordinary least squares\n",
       "==================================================================\n",
       "Model:              OLS              Adj. R-squared:     0.367    \n",
       "Dependent Variable: asset            AIC:                -185.8333\n",
       "Date:               2021-09-13 18:40 BIC:                -181.2800\n",
       "No. Observations:   72               Log-Likelihood:     94.917   \n",
       "Df Model:           1                F-statistic:        42.17    \n",
       "Df Residuals:       70               Prob (F-statistic): 1.03e-08 \n",
       "R-squared:          0.376            Scale:              0.0043123\n",
       "---------------------------------------------------------------------\n",
       "          Coef.     Std.Err.      t       P>|t|      [0.025    0.975]\n",
       "---------------------------------------------------------------------\n",
       "const     0.0120      0.0080    1.4981    0.1386    -0.0040    0.0279\n",
       "market    1.5420      0.2375    6.4940    0.0000     1.0685    2.0156\n",
       "------------------------------------------------------------------\n",
       "Omnibus:               6.011        Durbin-Watson:           1.827\n",
       "Prob(Omnibus):         0.050        Jarque-Bera (JB):        5.220\n",
       "Skew:                  0.618        Prob(JB):                0.074\n",
       "Kurtosis:              3.460        Condition No.:           31   \n",
       "==================================================================\n",
       "\n",
       "\"\"\""
      ]
     },
     "execution_count": 39,
     "metadata": {},
     "output_type": "execute_result"
    }
   ],
   "source": [
    "capm_model = sm.OLS(y, X).fit() # Ordinary Least Squares\n",
    "capm_model.summary2()"
   ]
  },
  {
   "cell_type": "markdown",
   "id": "456da3a9",
   "metadata": {},
   "source": [
    "here market is beta and constant is alpha"
   ]
  },
  {
   "cell_type": "code",
   "execution_count": 18,
   "id": "73ef713f",
   "metadata": {},
   "outputs": [],
   "source": [
    "# we assumed that there is no risk-free rate\n",
    "# now we will use treasury bill  as a risk-free rate\n"
   ]
  },
  {
   "cell_type": "code",
   "execution_count": 19,
   "id": "d24f8775",
   "metadata": {},
   "outputs": [],
   "source": [
    "# define the length of the period in days\n",
    "N_DAYS = 90\n"
   ]
  },
  {
   "cell_type": "code",
   "execution_count": 26,
   "id": "b25546ac",
   "metadata": {},
   "outputs": [
    {
     "name": "stdout",
     "output_type": "stream",
     "text": [
      "[*********************100%***********************]  1 of 1 completed\n"
     ]
    }
   ],
   "source": [
    "# download the data from Yahoo Finance\n",
    "df_rf = yf.download('^IRX', start = START_DATE, end = END_DATE)\n",
    "rf = df_rf.resample('M').last().Close / 100"
   ]
  },
  {
   "cell_type": "code",
   "execution_count": 27,
   "id": "9d1363d8",
   "metadata": {},
   "outputs": [
    {
     "data": {
      "text/plain": [
       "Date\n",
       "2013-12-31    0.00063\n",
       "2014-01-31    0.00010\n",
       "2014-02-28    0.00043\n",
       "2014-03-31    0.00028\n",
       "2014-04-30    0.00020\n",
       "               ...   \n",
       "2019-08-31    0.01933\n",
       "2019-09-30    0.01770\n",
       "2019-10-31    0.01498\n",
       "2019-11-30    0.01565\n",
       "2019-12-31    0.01505\n",
       "Freq: M, Name: Close, Length: 73, dtype: float64"
      ]
     },
     "execution_count": 27,
     "metadata": {},
     "output_type": "execute_result"
    }
   ],
   "source": [
    "# calculate risk-free premium and convert values to monthly\n",
    "rf = (1 / (1 - rf * N_DAYS / 360))  ** (1 / N_DAYS)\n",
    "rf = (rf ** 30) - 1"
   ]
  },
  {
   "cell_type": "code",
   "execution_count": 28,
   "id": "14777212",
   "metadata": {},
   "outputs": [
    {
     "data": {
      "text/plain": [
       "<AxesSubplot:title={'center':'Risk-free rate (13 Week Treasury Bill)'}, xlabel='Date'>"
      ]
     },
     "execution_count": 28,
     "metadata": {},
     "output_type": "execute_result"
    },
    {
     "data": {
      "image/png": "[encoded data removed]",
      "text/plain": [
       "<Figure size 432x288 with 1 Axes>"
      ]
     },
     "metadata": {
      "needs_background": "light"
     },
     "output_type": "display_data"
    }
   ],
   "source": [
    "# plot risk-free rate\n",
    "rf.plot(title = 'Risk-free rate (13 Week Treasury Bill)')"
   ]
  },
  {
   "cell_type": "code",
   "execution_count": 29,
   "id": "cfbd27d7",
   "metadata": {},
   "outputs": [],
   "source": [
    "# last approach is to approximate the risk-free rate using the 3-Month Treasury Bill (Secondary Market Rate)\n"
   ]
  },
  {
   "cell_type": "code",
   "execution_count": 30,
   "id": "271a1e99",
   "metadata": {},
   "outputs": [],
   "source": [
    "import pandas_datareader.data as web\n"
   ]
  },
  {
   "cell_type": "code",
   "execution_count": 31,
   "id": "8284d60c",
   "metadata": {},
   "outputs": [],
   "source": [
    "rf = web.DataReader('TB3MS', 'fred', start = START_DATE, end = END_DATE)"
   ]
  },
  {
   "cell_type": "code",
   "execution_count": 32,
   "id": "bf019858",
   "metadata": {},
   "outputs": [],
   "source": [
    "# convert to monthly values\n",
    "rf = (1 + (rf/100))  ** (1 / 12) - 1"
   ]
  },
  {
   "cell_type": "code",
   "execution_count": 37,
   "id": "986d479d",
   "metadata": {},
   "outputs": [
    {
     "data": {
      "text/plain": [
       "<AxesSubplot:title={'center':'Risk-free rate (3-Month Treasury Bill)'}, xlabel='DATE'>"
      ]
     },
     "execution_count": 37,
     "metadata": {},
     "output_type": "execute_result"
    },
    {
     "data": {
      "image/png": "[encoded data removed]",
      "text/plain": [
       "<Figure size 432x288 with 1 Axes>"
      ]
     },
     "metadata": {
      "needs_background": "light"
     },
     "output_type": "display_data"
    }
   ],
   "source": [
    "# plot calculated risk free rate\n",
    "rf.plot(title = 'Risk-free rate (3-Month Treasury Bill)')"
   ]
  }
 ],
 "metadata": {
  "kernelspec": {
   "display_name": "Python 3",
   "language": "python",
   "name": "python3"
  },
  "language_info": {
   "codemirror_mode": {
    "name": "ipython",
    "version": 3
   },
   "file_extension": ".py",
   "mimetype": "text/x-python",
   "name": "python",
   "nbconvert_exporter": "python",
   "pygments_lexer": "ipython3",
   "version": "3.8.8"
  }
 },
 "nbformat": 4,
 "nbformat_minor": 5
}
