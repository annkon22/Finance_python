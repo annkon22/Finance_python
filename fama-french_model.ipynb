{
 "cells": [
  {
   "cell_type": "markdown",
   "id": "e88d9c05",
   "metadata": {},
   "source": [
    "### We will estimate the three-factor model using 5 years (2014-2018) of monthly returns on Facebook"
   ]
  },
  {
   "cell_type": "code",
   "execution_count": 6,
   "id": "f4ab30a6",
   "metadata": {},
   "outputs": [],
   "source": [
    "import pandas as pd\n",
    "import yfinance as yf\n",
    "import statsmodels.formula.api as smf"
   ]
  },
  {
   "cell_type": "code",
   "execution_count": 1,
   "id": "d7fe9837",
   "metadata": {},
   "outputs": [],
   "source": [
    "# download and unzip the data\n",
    "# http://mba.tuck.dartmouth.edu/pages/faculty/ken.french/ftp/F-F_Research_Data_Factors_CSV.zip\n"
   ]
  },
  {
   "cell_type": "code",
   "execution_count": 7,
   "id": "2f996ed9",
   "metadata": {},
   "outputs": [],
   "source": [
    "# define the parameters\n",
    "\n",
    "RISKY_ASSET = 'FB'\n",
    "START_DATE = '2013-12-31'\n",
    "END_DATE = '2018-12-31'"
   ]
  },
  {
   "cell_type": "code",
   "execution_count": 28,
   "id": "6de239d9",
   "metadata": {},
   "outputs": [],
   "source": [
    "# read the data and keep only the monthly data\n",
    "from os import getcwd\n",
    "from os.path import join\n",
    "\n",
    "factor_df = pd.read_csv(join(getcwd(), 'F-F_Research_Data_Factors.csv'), skiprows=3) #\n"
   ]
  },
  {
   "cell_type": "code",
   "execution_count": 29,
   "id": "88d3f65a",
   "metadata": {},
   "outputs": [
    {
     "data": {
      "text/html": [
       "<div>\n",
       "<style scoped>\n",
       "    .dataframe tbody tr th:only-of-type {\n",
       "        vertical-align: middle;\n",
       "    }\n",
       "\n",
       "    .dataframe tbody tr th {\n",
       "        vertical-align: top;\n",
       "    }\n",
       "\n",
       "    .dataframe thead th {\n",
       "        text-align: right;\n",
       "    }\n",
       "</style>\n",
       "<table border=\"1\" class=\"dataframe\">\n",
       "  <thead>\n",
       "    <tr style=\"text-align: right;\">\n",
       "      <th></th>\n",
       "      <th>Unnamed: 0</th>\n",
       "      <th>Mkt-RF</th>\n",
       "      <th>SMB</th>\n",
       "      <th>HML</th>\n",
       "      <th>RF</th>\n",
       "    </tr>\n",
       "  </thead>\n",
       "  <tbody>\n",
       "    <tr>\n",
       "      <th>0</th>\n",
       "      <td>192607</td>\n",
       "      <td>2.96</td>\n",
       "      <td>-2.38</td>\n",
       "      <td>-2.73</td>\n",
       "      <td>0.22</td>\n",
       "    </tr>\n",
       "    <tr>\n",
       "      <th>1</th>\n",
       "      <td>192608</td>\n",
       "      <td>2.64</td>\n",
       "      <td>-1.47</td>\n",
       "      <td>4.14</td>\n",
       "      <td>0.25</td>\n",
       "    </tr>\n",
       "    <tr>\n",
       "      <th>2</th>\n",
       "      <td>192609</td>\n",
       "      <td>0.36</td>\n",
       "      <td>-1.39</td>\n",
       "      <td>0.12</td>\n",
       "      <td>0.23</td>\n",
       "    </tr>\n",
       "    <tr>\n",
       "      <th>3</th>\n",
       "      <td>192610</td>\n",
       "      <td>-3.24</td>\n",
       "      <td>-0.13</td>\n",
       "      <td>0.65</td>\n",
       "      <td>0.32</td>\n",
       "    </tr>\n",
       "    <tr>\n",
       "      <th>4</th>\n",
       "      <td>192611</td>\n",
       "      <td>2.53</td>\n",
       "      <td>-0.16</td>\n",
       "      <td>-0.38</td>\n",
       "      <td>0.31</td>\n",
       "    </tr>\n",
       "    <tr>\n",
       "      <th>...</th>\n",
       "      <td>...</td>\n",
       "      <td>...</td>\n",
       "      <td>...</td>\n",
       "      <td>...</td>\n",
       "      <td>...</td>\n",
       "    </tr>\n",
       "    <tr>\n",
       "      <th>1233</th>\n",
       "      <td>2017</td>\n",
       "      <td>21.51</td>\n",
       "      <td>-4.95</td>\n",
       "      <td>-13.48</td>\n",
       "      <td>0.80</td>\n",
       "    </tr>\n",
       "    <tr>\n",
       "      <th>1234</th>\n",
       "      <td>2018</td>\n",
       "      <td>-6.93</td>\n",
       "      <td>-3.34</td>\n",
       "      <td>-9.80</td>\n",
       "      <td>1.81</td>\n",
       "    </tr>\n",
       "    <tr>\n",
       "      <th>1235</th>\n",
       "      <td>2019</td>\n",
       "      <td>28.28</td>\n",
       "      <td>-6.06</td>\n",
       "      <td>-10.48</td>\n",
       "      <td>2.14</td>\n",
       "    </tr>\n",
       "    <tr>\n",
       "      <th>1236</th>\n",
       "      <td>2020</td>\n",
       "      <td>23.67</td>\n",
       "      <td>12.77</td>\n",
       "      <td>-46.32</td>\n",
       "      <td>0.44</td>\n",
       "    </tr>\n",
       "    <tr>\n",
       "      <th>1237</th>\n",
       "      <td>Copyright 2021 Kenneth R. French</td>\n",
       "      <td>NaN</td>\n",
       "      <td>NaN</td>\n",
       "      <td>NaN</td>\n",
       "      <td>NaN</td>\n",
       "    </tr>\n",
       "  </tbody>\n",
       "</table>\n",
       "<p>1238 rows × 5 columns</p>\n",
       "</div>"
      ],
      "text/plain": [
       "                            Unnamed: 0    Mkt-RF       SMB       HML        RF\n",
       "0                               192607      2.96     -2.38     -2.73      0.22\n",
       "1                               192608      2.64     -1.47      4.14      0.25\n",
       "2                               192609      0.36     -1.39      0.12      0.23\n",
       "3                               192610     -3.24     -0.13      0.65      0.32\n",
       "4                               192611      2.53     -0.16     -0.38      0.31\n",
       "...                                ...       ...       ...       ...       ...\n",
       "1233                              2017     21.51     -4.95    -13.48      0.80\n",
       "1234                              2018     -6.93     -3.34     -9.80      1.81\n",
       "1235                              2019     28.28     -6.06    -10.48      2.14\n",
       "1236                              2020     23.67     12.77    -46.32      0.44\n",
       "1237  Copyright 2021 Kenneth R. French       NaN       NaN       NaN       NaN\n",
       "\n",
       "[1238 rows x 5 columns]"
      ]
     },
     "execution_count": 29,
     "metadata": {},
     "output_type": "execute_result"
    }
   ],
   "source": [
    "factor_df"
   ]
  },
  {
   "cell_type": "code",
   "execution_count": 30,
   "id": "125e4f6a",
   "metadata": {},
   "outputs": [],
   "source": [
    "STR_TO_MATCH = ' Annual Factors: January-December '\n",
    "indices = factor_df.iloc[:, 0] == STR_TO_MATCH\n",
    "start_of_annual = factor_df[indices].index[0]\n",
    "factor_df = factor_df[factor_df.index < start_of_annual]"
   ]
  },
  {
   "cell_type": "code",
   "execution_count": null,
   "id": "7b36f877",
   "metadata": {},
   "outputs": [],
   "source": []
  },
  {
   "cell_type": "code",
   "execution_count": 32,
   "id": "61913595",
   "metadata": {},
   "outputs": [
    {
     "name": "stderr",
     "output_type": "stream",
     "text": [
      "<ipython-input-32-30930474cf2c>:3: SettingWithCopyWarning: \n",
      "A value is trying to be set on a copy of a slice from a DataFrame.\n",
      "Try using .loc[row_indexer,col_indexer] = value instead\n",
      "\n",
      "See the caveats in the documentation: https://pandas.pydata.org/pandas-docs/stable/user_guide/indexing.html#returning-a-view-versus-a-copy\n",
      "  factor_df['date'] = pd.to_datetime(factor_df['date'], format = '%Y%m').dt.strftime(\"%Y-%m\")\n"
     ]
    }
   ],
   "source": [
    "# rename the columns, set a datetime index and filter by dates\n",
    "factor_df.columns = ['date', 'mkt', 'smb', 'hml', 'rf']\n",
    "factor_df['date'] = pd.to_datetime(factor_df['date'], format = '%Y%m').dt.strftime(\"%Y-%m\")\n",
    "factor_df = factor_df.set_index('date')\n",
    "factor_df = factor_df.loc[START_DATE:END_DATE]"
   ]
  },
  {
   "cell_type": "code",
   "execution_count": 33,
   "id": "c944d6ed",
   "metadata": {},
   "outputs": [],
   "source": [
    "# convert the values to numeric values and divide by 100\n",
    "factor_df = factor_df.apply(pd.to_numeric, errors = 'coerce').div(100)"
   ]
  },
  {
   "cell_type": "code",
   "execution_count": 34,
   "id": "4ddff789",
   "metadata": {},
   "outputs": [
    {
     "data": {
      "text/html": [
       "<div>\n",
       "<style scoped>\n",
       "    .dataframe tbody tr th:only-of-type {\n",
       "        vertical-align: middle;\n",
       "    }\n",
       "\n",
       "    .dataframe tbody tr th {\n",
       "        vertical-align: top;\n",
       "    }\n",
       "\n",
       "    .dataframe thead th {\n",
       "        text-align: right;\n",
       "    }\n",
       "</style>\n",
       "<table border=\"1\" class=\"dataframe\">\n",
       "  <thead>\n",
       "    <tr style=\"text-align: right;\">\n",
       "      <th></th>\n",
       "      <th>mkt</th>\n",
       "      <th>smb</th>\n",
       "      <th>hml</th>\n",
       "      <th>rf</th>\n",
       "    </tr>\n",
       "    <tr>\n",
       "      <th>date</th>\n",
       "      <th></th>\n",
       "      <th></th>\n",
       "      <th></th>\n",
       "      <th></th>\n",
       "    </tr>\n",
       "  </thead>\n",
       "  <tbody>\n",
       "    <tr>\n",
       "      <th>2014-01</th>\n",
       "      <td>-0.0332</td>\n",
       "      <td>0.0092</td>\n",
       "      <td>-0.0202</td>\n",
       "      <td>0.0</td>\n",
       "    </tr>\n",
       "    <tr>\n",
       "      <th>2014-02</th>\n",
       "      <td>0.0465</td>\n",
       "      <td>0.0037</td>\n",
       "      <td>-0.0031</td>\n",
       "      <td>0.0</td>\n",
       "    </tr>\n",
       "    <tr>\n",
       "      <th>2014-03</th>\n",
       "      <td>0.0043</td>\n",
       "      <td>-0.0187</td>\n",
       "      <td>0.0492</td>\n",
       "      <td>0.0</td>\n",
       "    </tr>\n",
       "    <tr>\n",
       "      <th>2014-04</th>\n",
       "      <td>-0.0019</td>\n",
       "      <td>-0.0420</td>\n",
       "      <td>0.0114</td>\n",
       "      <td>0.0</td>\n",
       "    </tr>\n",
       "    <tr>\n",
       "      <th>2014-05</th>\n",
       "      <td>0.0206</td>\n",
       "      <td>-0.0189</td>\n",
       "      <td>-0.0013</td>\n",
       "      <td>0.0</td>\n",
       "    </tr>\n",
       "  </tbody>\n",
       "</table>\n",
       "</div>"
      ],
      "text/plain": [
       "            mkt     smb     hml   rf\n",
       "date                                \n",
       "2014-01 -0.0332  0.0092 -0.0202  0.0\n",
       "2014-02  0.0465  0.0037 -0.0031  0.0\n",
       "2014-03  0.0043 -0.0187  0.0492  0.0\n",
       "2014-04 -0.0019 -0.0420  0.0114  0.0\n",
       "2014-05  0.0206 -0.0189 -0.0013  0.0"
      ]
     },
     "execution_count": 34,
     "metadata": {},
     "output_type": "execute_result"
    }
   ],
   "source": [
    "factor_df.head()"
   ]
  },
  {
   "cell_type": "code",
   "execution_count": 35,
   "id": "db90a7b1",
   "metadata": {},
   "outputs": [
    {
     "name": "stdout",
     "output_type": "stream",
     "text": [
      "[*********************100%***********************]  1 of 1 completed\n"
     ]
    }
   ],
   "source": [
    "# download fb prices\n",
    "\n",
    "asset_df = yf.download(RISKY_ASSET, start = START_DATE, end = END_DATE,\n",
    "                      adjusted = True)"
   ]
  },
  {
   "cell_type": "code",
   "execution_count": 40,
   "id": "8ed24ad6",
   "metadata": {},
   "outputs": [],
   "source": [
    "# calculate monthly returns on the risky asset\n",
    "y = asset_df['Adj Close'].resample('M').last().pct_change().dropna()\n",
    "y.index = y.index.strftime('%Y-%m')\n",
    "y.name = 'rtn'"
   ]
  },
  {
   "cell_type": "code",
   "execution_count": 42,
   "id": "c4864889",
   "metadata": {},
   "outputs": [],
   "source": [
    "# merge two datasets and calculate the excess returns\n",
    "ff_data = factor_df.join(y)"
   ]
  },
  {
   "cell_type": "code",
   "execution_count": 44,
   "id": "1c0bdd28",
   "metadata": {},
   "outputs": [],
   "source": [
    "ff_data['excess_rtn'] = ff_data.rtn - ff_data.rf"
   ]
  },
  {
   "cell_type": "code",
   "execution_count": 45,
   "id": "1aa9ee2f",
   "metadata": {},
   "outputs": [
    {
     "name": "stdout",
     "output_type": "stream",
     "text": [
      "                            OLS Regression Results                            \n",
      "==============================================================================\n",
      "Dep. Variable:             excess_rtn   R-squared:                       0.213\n",
      "Model:                            OLS   Adj. R-squared:                  0.171\n",
      "Method:                 Least Squares   F-statistic:                     5.065\n",
      "Date:                Mon, 20 Sep 2021   Prob (F-statistic):            0.00357\n",
      "Time:                        19:57:06   Log-Likelihood:                 88.253\n",
      "No. Observations:                  60   AIC:                            -168.5\n",
      "Df Residuals:                      56   BIC:                            -160.1\n",
      "Df Model:                           3                                         \n",
      "Covariance Type:            nonrobust                                         \n",
      "==============================================================================\n",
      "                 coef    std err          t      P>|t|      [0.025      0.975]\n",
      "------------------------------------------------------------------------------\n",
      "Intercept      0.0105      0.008      1.366      0.177      -0.005       0.026\n",
      "mkt            0.5183      0.237      2.183      0.033       0.043       0.994\n",
      "smb           -0.1675      0.300     -0.558      0.579      -0.769       0.434\n",
      "hml           -0.9464      0.314     -3.015      0.004      -1.575      -0.318\n",
      "==============================================================================\n",
      "Omnibus:                        0.008   Durbin-Watson:                   1.766\n",
      "Prob(Omnibus):                  0.996   Jarque-Bera (JB):                0.129\n",
      "Skew:                          -0.023   Prob(JB):                        0.938\n",
      "Kurtosis:                       2.778   Cond. No.                         44.5\n",
      "==============================================================================\n",
      "\n",
      "Notes:\n",
      "[1] Standard Errors assume that the covariance matrix of the errors is correctly specified.\n"
     ]
    }
   ],
   "source": [
    "# estimate the 3 factor model\n",
    "ff_model = smf.ols(formula = 'excess_rtn ~ mkt + smb + hml', data = ff_data).fit()\n",
    "print(ff_model.summary())"
   ]
  },
  {
   "cell_type": "code",
   "execution_count": 46,
   "id": "07a0df68",
   "metadata": {},
   "outputs": [],
   "source": [
    "# we can also use pandas_datareader to get the datasets\n",
    "from pandas_datareader.famafrench import get_available_datasets\n",
    "import pandas_datareader.data as web\n"
   ]
  },
  {
   "cell_type": "code",
   "execution_count": 48,
   "id": "6ac78246",
   "metadata": {},
   "outputs": [
    {
     "data": {
      "text/plain": [
       "['F-F_Research_Data_Factors',\n",
       " 'F-F_Research_Data_Factors_weekly',\n",
       " 'F-F_Research_Data_Factors_daily',\n",
       " 'F-F_Research_Data_5_Factors_2x3',\n",
       " 'F-F_Research_Data_5_Factors_2x3_daily']"
      ]
     },
     "execution_count": 48,
     "metadata": {},
     "output_type": "execute_result"
    }
   ],
   "source": [
    "# print avalilable datasets\n",
    "get_available_datasets()[:5]"
   ]
  },
  {
   "cell_type": "code",
   "execution_count": 49,
   "id": "cc9773de",
   "metadata": {},
   "outputs": [
    {
     "data": {
      "text/plain": [
       "dict_keys([0, 1, 'DESCR'])"
      ]
     },
     "execution_count": 49,
     "metadata": {},
     "output_type": "execute_result"
    }
   ],
   "source": [
    "# download the selected dataset \n",
    "ff_dict = web.DataReader('F-F_Research_Data_Factors', 'famafrench', start = '2014-01-01')\n",
    "ff_dict.keys()"
   ]
  },
  {
   "cell_type": "code",
   "execution_count": 50,
   "id": "b79c7db1",
   "metadata": {},
   "outputs": [
    {
     "data": {
      "text/plain": [
       "'F-F Research Data Factors\\n-------------------------\\n\\nThis file was created by CMPT_ME_BEME_RETS using the 202107 CRSP database. The 1-month TBill return is from Ibbotson and Associates, Inc. Copyright 2021 Kenneth R. French\\n\\n  0 : (91 rows x 4 cols)\\n  1 : Annual Factors: January-December (7 rows x 4 cols)'"
      ]
     },
     "execution_count": 50,
     "metadata": {},
     "output_type": "execute_result"
    }
   ],
   "source": [
    "ff_dict.get('DESCR')"
   ]
  },
  {
   "cell_type": "code",
   "execution_count": 51,
   "id": "a907cfc2",
   "metadata": {},
   "outputs": [
    {
     "data": {
      "text/html": [
       "<div>\n",
       "<style scoped>\n",
       "    .dataframe tbody tr th:only-of-type {\n",
       "        vertical-align: middle;\n",
       "    }\n",
       "\n",
       "    .dataframe tbody tr th {\n",
       "        vertical-align: top;\n",
       "    }\n",
       "\n",
       "    .dataframe thead th {\n",
       "        text-align: right;\n",
       "    }\n",
       "</style>\n",
       "<table border=\"1\" class=\"dataframe\">\n",
       "  <thead>\n",
       "    <tr style=\"text-align: right;\">\n",
       "      <th></th>\n",
       "      <th>Mkt-RF</th>\n",
       "      <th>SMB</th>\n",
       "      <th>HML</th>\n",
       "      <th>RF</th>\n",
       "    </tr>\n",
       "    <tr>\n",
       "      <th>Date</th>\n",
       "      <th></th>\n",
       "      <th></th>\n",
       "      <th></th>\n",
       "      <th></th>\n",
       "    </tr>\n",
       "  </thead>\n",
       "  <tbody>\n",
       "    <tr>\n",
       "      <th>2014-01</th>\n",
       "      <td>-3.32</td>\n",
       "      <td>0.92</td>\n",
       "      <td>-2.02</td>\n",
       "      <td>0.0</td>\n",
       "    </tr>\n",
       "    <tr>\n",
       "      <th>2014-02</th>\n",
       "      <td>4.65</td>\n",
       "      <td>0.37</td>\n",
       "      <td>-0.31</td>\n",
       "      <td>0.0</td>\n",
       "    </tr>\n",
       "    <tr>\n",
       "      <th>2014-03</th>\n",
       "      <td>0.43</td>\n",
       "      <td>-1.87</td>\n",
       "      <td>4.92</td>\n",
       "      <td>0.0</td>\n",
       "    </tr>\n",
       "    <tr>\n",
       "      <th>2014-04</th>\n",
       "      <td>-0.19</td>\n",
       "      <td>-4.20</td>\n",
       "      <td>1.14</td>\n",
       "      <td>0.0</td>\n",
       "    </tr>\n",
       "    <tr>\n",
       "      <th>2014-05</th>\n",
       "      <td>2.06</td>\n",
       "      <td>-1.89</td>\n",
       "      <td>-0.13</td>\n",
       "      <td>0.0</td>\n",
       "    </tr>\n",
       "  </tbody>\n",
       "</table>\n",
       "</div>"
      ],
      "text/plain": [
       "         Mkt-RF   SMB   HML   RF\n",
       "Date                            \n",
       "2014-01   -3.32  0.92 -2.02  0.0\n",
       "2014-02    4.65  0.37 -0.31  0.0\n",
       "2014-03    0.43 -1.87  4.92  0.0\n",
       "2014-04   -0.19 -4.20  1.14  0.0\n",
       "2014-05    2.06 -1.89 -0.13  0.0"
      ]
     },
     "execution_count": 51,
     "metadata": {},
     "output_type": "execute_result"
    }
   ],
   "source": [
    "# view the monthly dataset \n",
    "ff_dict[0].head()"
   ]
  },
  {
   "cell_type": "code",
   "execution_count": null,
   "id": "54d9e6ba",
   "metadata": {},
   "outputs": [],
   "source": []
  }
 ],
 "metadata": {
  "kernelspec": {
   "display_name": "Python 3",
   "language": "python",
   "name": "python3"
  },
  "language_info": {
   "codemirror_mode": {
    "name": "ipython",
    "version": 3
   },
   "file_extension": ".py",
   "mimetype": "text/x-python",
   "name": "python",
   "nbconvert_exporter": "python",
   "pygments_lexer": "ipython3",
   "version": "3.8.8"
  }
 },
 "nbformat": 4,
 "nbformat_minor": 5
}
